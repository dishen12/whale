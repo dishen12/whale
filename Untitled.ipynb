{
 "cells": [
  {
   "cell_type": "code",
   "execution_count": null,
   "metadata": {},
   "outputs": [],
   "source": [
    "import os\n",
    "import numpy as np\n",
    "from PIL import Image\n",
    "from skimage import io,transform"
   ]
  },
  {
   "cell_type": "code",
   "execution_count": 72,
   "metadata": {},
   "outputs": [
    {
     "name": "stdout",
     "output_type": "stream",
     "text": [
      "end\n"
     ]
    }
   ],
   "source": [
    "train_csv = \"/nfs/project/whale/train.csv\"\n",
    "f = open(train_csv,\"r\")\n",
    "cls_txt = open(\"/nfs/project/whale/cls.txt\",\"w\")\n",
    "lines = f.readlines()\n",
    "whale_class = []\n",
    "for i,line in enumerate(lines):\n",
    "    if(i==0): continue\n",
    "    temp = line.strip().split(\",\")\n",
    "    temp_cls = temp[-1]\n",
    "    if(temp_cls not in whale_class):\n",
    "        whale_class.append(temp_cls)\n",
    "        print(temp_cls,file=cls_txt)\n",
    "f.close()\n",
    "cls_txt.close()\n",
    "print(\"end\")"
   ]
  },
  {
   "cell_type": "code",
   "execution_count": null,
   "metadata": {},
   "outputs": [],
   "source": [
    "from keras.preprocessing.image import ImageDataGenerator, array_to_img, img_to_array, load_img\n",
    "\n",
    "datagen = ImageDataGenerator(\n",
    "        rotation_range=30,\n",
    "        width_shift_range=0.2,\n",
    "        height_shift_range=0.2,\n",
    "        shear_range=0.2,\n",
    "        zoom_range=0.2,\n",
    "        horizontal_flip=True,\n",
    "        fill_mode='nearest',\n",
    "        horizontal_flip = False,\n",
    "        vertical_flip = False)\n",
    "\n",
    "def data_aug(image_dir):\n",
    "    train_csv = os.path.join(image_dir,\"train.csv\")\n",
    "    f = open(train_csv,\"r\")\n",
    "    lines = f.readlines()\n",
    "    np.random.shuffle(lines)\n",
    "    images = []\n",
    "    labels = []\n",
    "    labels_all = []\n",
    "    label_id = []\n",
    "    occlude_class = [\"new_whale\"]\n",
    "    save_dir = imageName = os.path.join(image_dir,\"train_aug\")\n",
    "    for i,line in enumerate(lines):\n",
    "        print(i)\n",
    "        if(i==0): continue\n",
    "        temp = line.strip().split(\",\")\n",
    "        image_name = temp[0]\n",
    "        imageName = os.path.join(image_dir,\"train\",image_name)\n",
    "        if(not os.path.exists(imageName)): continue\n",
    "        label=temp[1]\n",
    "        if(label in occlude_class): continue\n",
    "        img = load_img(imageName)  \n",
    "        x = img_to_array(img) \n",
    "        x = x.reshape((1,) + x.shape)  \n",
    "        i = 0\n",
    "        for batch in datagen.flow(x, batch_size=1,\n",
    "                                  save_to_dir=save_dir, save_prefix=image_name, save_format='jpg'):\n",
    "            i += 1\n",
    "            if i > 12:\n",
    "                break  \n",
    "    print(\"end\")\n",
    "    \n",
    "data_aug(\"/nfs/project/whale/\")"
   ]
  },
  {
   "cell_type": "code",
   "execution_count": null,
   "metadata": {},
   "outputs": [],
   "source": [
    "import shutil\n",
    "def cp_file(image_dir):\n",
    "    train_csv = os.path.join(image_dir,\"train.csv\")\n",
    "    f = open(train_csv,\"r\")\n",
    "    lines = f.readlines()\n",
    "    np.random.shuffle(lines)\n",
    "    images = []\n",
    "    labels = []\n",
    "    labels_all = []\n",
    "    label_id = []\n",
    "    occlude_class = [\"new_whale\"]\n",
    "    #save_dir = imageName = os.path.join(image_dir,\"train_aug_2\")\n",
    "    for i,line in enumerate(lines):\n",
    "        print(i)\n",
    "        if(i==0): continue\n",
    "        temp = line.strip().split(\",\")\n",
    "        image_name = temp[0]\n",
    "        imageName = os.path.join(image_dir,\"train\",image_name)\n",
    "        label=temp[1]\n",
    "        if(label in occlude_class):\n",
    "            shutil.copyfile(imageName,os.path.join(image_dir,\"train_aug_2\",image_name+\"_\"+label+\".jpg\")) \n",
    "    print(\"end\")\n",
    "    \n",
    "cp_file(\"/nfs/project/whale/\")"
   ]
  },
  {
   "cell_type": "code",
   "execution_count": 85,
   "metadata": {},
   "outputs": [
    {
     "name": "stdout",
     "output_type": "stream",
     "text": [
      "end\n"
     ]
    }
   ],
   "source": [
    "import os \n",
    "import numpy as np \n",
    "path=\"/nfs/project/whale/train_aug_2/\"\n",
    "aug_csv = open(\"/nfs/project/whale/train_aug_2.csv\",\"w\")\n",
    "for root,dir,files in os.walk(path):\n",
    "    for file in files:\n",
    "        if(not file.lower().endswith(\"jpg\")): continue\n",
    "        s = \"\"\n",
    "        temp = file.strip().split(\"_\")\n",
    "        label = temp[1]+\"_\"+temp[2]\n",
    "        if(\".jpg\" in label):\n",
    "            label = label.replace(\".jpg\",\"\")\n",
    "        s+=file+\",\"+label\n",
    "        print(s,file=aug_csv)\n",
    "aug_csv.close()\n",
    "print(\"end\")"
   ]
  },
  {
   "cell_type": "code",
   "execution_count": 87,
   "metadata": {},
   "outputs": [
    {
     "name": "stdout",
     "output_type": "stream",
     "text": [
      "load train data.....\n",
      "5005\n"
     ]
    }
   ],
   "source": [
    "def loadTrainData(image_dir):\n",
    "    print(\"load train data.....\")\n",
    "    train_csv = os.path.join(image_dir,\"train_aug_2.csv\")\n",
    "    f = open(train_csv,\"r\")\n",
    "    lines = f.readlines()\n",
    "    f.close()\n",
    "    #np.random.shuffle(lines)\n",
    "    images = []\n",
    "    labels = []\n",
    "    labels_all = []\n",
    "    labels_id = []\n",
    "    for i,line in enumerate(lines):\n",
    "        if(i==0): continue\n",
    "        temp = line.strip().split(\",\")\n",
    "        image_name = temp[0]\n",
    "        image_name = os.path.join(image_dir,\"train_aug_2\",image_name)\n",
    "        if(not os.path.exists(image_name)): \n",
    "            print(\"error!\",image_name)\n",
    "            continue\n",
    "        label=temp[1]\n",
    "        images.append(image_name)\n",
    "        labels.append(label)\n",
    "        \n",
    "    for label in labels:\n",
    "        if(label not in labels_all):\n",
    "            labels_all.append(label)\n",
    "    for label in labels:\n",
    "        labels_id.append(labels_all.index(label))\n",
    "    cls_txt = open(os.path.join(image_dir,\"cls.txt\"),\"w\")\n",
    "    print(len(labels_all))\n",
    "    for cls in labels_all:\n",
    "        print(cls,file=cls_txt)\n",
    "    cls_txt.close()\n",
    "    \n",
    "    return images,labels_id\n",
    "\n",
    "_,_=loadTrainData(\"/nfs/project/whale/\")"
   ]
  },
  {
   "cell_type": "code",
   "execution_count": 83,
   "metadata": {},
   "outputs": [
    {
     "name": "stdout",
     "output_type": "stream",
     "text": [
      "end\n"
     ]
    }
   ],
   "source": [
    "image_dir = \"/nfs/project/whale/\"\n",
    "train_csv = os.path.join(image_dir,\"train_aug_1.csv\")\n",
    "out_train_csv = open(os.path.join(image_dir,\"train_aug_1_fliter.csv\"),\"w\")\n",
    "f = open(train_csv,\"r\")\n",
    "lines = f.readlines()\n",
    "f.close()\n",
    "#np.random.shuffle(lines)\n",
    "images = []\n",
    "labels = []\n",
    "labels_all = []\n",
    "labels_id = []\n",
    "count=0\n",
    "for i,line in enumerate(lines):\n",
    "    if(i==0): continue\n",
    "    temp = line.strip().split(\",\")\n",
    "    #print(temp[0])\n",
    "    image_name = temp[0]\n",
    "    image_name = os.path.join(image_dir,\"train_aug_1\",image_name)\n",
    "    if(not os.path.exists(image_name)): \n",
    "        print(\"error!\",image_name)\n",
    "        continue\n",
    "    label=temp[1]\n",
    "    if(label==\"new_whale\"):\n",
    "        count+=1\n",
    "        if(count>10):\n",
    "            continue\n",
    "    print(temp[0]+\",\"+temp[1],file=out_train_csv)\n",
    "out_train_csv.close()\n",
    "print(\"end\")"
   ]
  },
  {
   "cell_type": "code",
   "execution_count": null,
   "metadata": {},
   "outputs": [],
   "source": []
  },
  {
   "cell_type": "code",
   "execution_count": null,
   "metadata": {},
   "outputs": [],
   "source": []
  },
  {
   "cell_type": "code",
   "execution_count": null,
   "metadata": {},
   "outputs": [],
   "source": []
  },
  {
   "cell_type": "code",
   "execution_count": null,
   "metadata": {},
   "outputs": [],
   "source": []
  },
  {
   "cell_type": "code",
   "execution_count": null,
   "metadata": {},
   "outputs": [],
   "source": []
  },
  {
   "cell_type": "code",
   "execution_count": null,
   "metadata": {},
   "outputs": [],
   "source": []
  },
  {
   "cell_type": "code",
   "execution_count": null,
   "metadata": {},
   "outputs": [],
   "source": []
  },
  {
   "cell_type": "code",
   "execution_count": null,
   "metadata": {},
   "outputs": [],
   "source": []
  },
  {
   "cell_type": "code",
   "execution_count": null,
   "metadata": {},
   "outputs": [],
   "source": []
  },
  {
   "cell_type": "code",
   "execution_count": null,
   "metadata": {},
   "outputs": [],
   "source": []
  }
 ],
 "metadata": {
  "kernelspec": {
   "display_name": "Python 3",
   "language": "python",
   "name": "python3"
  },
  "language_info": {
   "codemirror_mode": {
    "name": "ipython",
    "version": 3
   },
   "file_extension": ".py",
   "mimetype": "text/x-python",
   "name": "python",
   "nbconvert_exporter": "python",
   "pygments_lexer": "ipython3",
   "version": "3.6.3"
  }
 },
 "nbformat": 4,
 "nbformat_minor": 2
}
